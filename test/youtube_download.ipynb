{
 "cells": [
  {
   "cell_type": "code",
   "execution_count": null,
   "metadata": {},
   "outputs": [],
   "source": [
    "import yt_dlp\n",
    "import csv\n",
    "\n",
    "file_path = '../output_data/most_common_champion.csv'\n",
    "\n",
    "with open(file_path, newline='', encoding='utf-8') as csvfile:\n",
    "    csvreader = csv.reader(csvfile, delimiter=',')\n",
    "    next(csvreader)\n",
    "\n",
    "    for row in csvreader:\n",
    "        url = row[2]\n",
    "\n",
    "        ydl_opts = {\n",
    "            'format': 'bestvideo*+bestaudio/best',\n",
    "            'outtmpl': 'lol/lee/lee_%(id)s.%(ext)s',\n",
    "        }\n",
    "        \n",
    "        with yt_dlp.YoutubeDL(ydl_opts) as ydl:\n",
    "            ydl.download([url])"
   ]
  }
 ],
 "metadata": {
  "language_info": {
   "name": "python"
  }
 },
 "nbformat": 4,
 "nbformat_minor": 2
}
