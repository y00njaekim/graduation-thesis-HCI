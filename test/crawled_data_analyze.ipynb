{
 "cells": [
  {
   "cell_type": "code",
   "execution_count": null,
   "metadata": {},
   "outputs": [],
   "source": [
    "import pandas as pd\n",
    "\n",
    "df = pd.read_csv(\"../video_data.csv\")\n",
    "\n",
    "champion_counts = df[\"champion\"].value_counts()\n",
    "most_common_champion = champion_counts.sort_values(ascending=False).index[0]\n",
    "most_common_champion_count = champion_counts.sort_values(ascending=False)[0]\n",
    "print(\"Most common champion: {} ({} times)\".format(most_common_champion, most_common_champion_count))"
   ]
  },
  {
   "cell_type": "code",
   "execution_count": null,
   "metadata": {},
   "outputs": [],
   "source": [
    "df = df[df[\"champion\"] == most_common_champion]\n",
    "df.to_csv(\"../output_data/most_common_champion.csv\", index=False)"
   ]
  }
 ],
 "metadata": {
  "kernelspec": {
   "display_name": "graduation-thesis-hci-TlYEPsPt-py3.9",
   "language": "python",
   "name": "python3"
  },
  "language_info": {
   "codemirror_mode": {
    "name": "ipython",
    "version": 3
   },
   "file_extension": ".py",
   "mimetype": "text/x-python",
   "name": "python",
   "nbconvert_exporter": "python",
   "pygments_lexer": "ipython3",
   "version": "3.9.1"
  }
 },
 "nbformat": 4,
 "nbformat_minor": 2
}
